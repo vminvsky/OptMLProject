{
 "cells": [
  {
   "cell_type": "code",
   "execution_count": 27,
   "metadata": {},
   "outputs": [],
   "source": [
    "import json\n",
    "import os\n",
    "import time\n",
    "from typing import Callable, Dict, List, Tuple\n",
    "\n",
    "\n",
    "from langchain import PromptTemplate, LLMChain\n",
    "from langchain.llms import OpenAI\n",
    "from langchain.chat_models import ChatOpenAI\n",
    "from langchain.schema import HumanMessage, AIMessage, SystemMessage\n",
    "from dotenv import load_dotenv\n",
    "import pandas as pd\n",
    "\n",
    "from tqdm import tqdm\n",
    "\n",
    "import hydra\n",
    "\n",
    "load_dotenv()\n",
    "from langchain.chains import SimpleSequentialChain, SequentialChain\n",
    "\n",
    "\n",
    "from prompting.langchain import DataTemplates\n",
    "from config import AugmentConfig, DATA_DIR, SENTIMENT_DATA_DIR\n",
    "\n",
    "augmentation_templates = DataTemplates()\n",
    "\n",
    "\n",
    "description_prompt = augmentation_templates.sentiment_description_prompt()\n",
    "rewrite_prompt = augmentation_templates.sentiment_rewrite_prompt()"
   ]
  },
  {
   "cell_type": "code",
   "execution_count": 19,
   "metadata": {},
   "outputs": [],
   "source": [
    "%load_ext autoreload\n",
    "%autoreload 2"
   ]
  },
  {
   "cell_type": "code",
   "execution_count": 28,
   "metadata": {},
   "outputs": [],
   "source": [
    "llm = ChatOpenAI(\n",
    "    model_name=\"gpt-3.5-turbo\", \n",
    "    temperature=.7,\n",
    "    max_tokens = 512, \n",
    "    max_retries = 2\n",
    ")"
   ]
  },
  {
   "cell_type": "code",
   "execution_count": 17,
   "metadata": {},
   "outputs": [
    {
     "data": {
      "text/plain": [
       "LLMChain(memory=None, callback_manager=<langchain.callbacks.shared.SharedCallbackManager object at 0x7f94356aadf0>, verbose=False, prompt=ChatPromptTemplate(input_variables=[], output_parser=None, partial_variables={}, messages=[SystemMessagePromptTemplate(prompt=PromptTemplate(input_variables=[], output_parser=None, partial_variables={}, template='\\n        You are an advanced AI writer. Your job is to help write examples of social media comments that conveys certain sentiments: positive, neutral, negative.\\n        ', template_format='f-string', validate_template=True), additional_kwargs={}), HumanMessagePromptTemplate(prompt=PromptTemplate(input_variables=[], output_parser=None, partial_variables={}, template='List three factors / charactersitics of text that can make it neutral, positive, and negative sentiment. Make sure to list three factors for each of the sentiments. \\n', template_format='f-string', validate_template=True), additional_kwargs={})]), llm=ChatOpenAI(verbose=False, callback_manager=<langchain.callbacks.shared.SharedCallbackManager object at 0x7f94356aadf0>, client=<class 'openai.api_resources.chat_completion.ChatCompletion'>, model_name='gpt-3.5-turbo', temperature=0.7, model_kwargs={}, openai_api_key=None, openai_organization=None, request_timeout=60, max_retries=2, streaming=False, n=1, max_tokens=256), output_key='text')"
      ]
     },
     "execution_count": 17,
     "metadata": {},
     "output_type": "execute_result"
    }
   ],
   "source": [
    "llm_chain"
   ]
  },
  {
   "cell_type": "code",
   "execution_count": 29,
   "metadata": {},
   "outputs": [],
   "source": [
    "llm_chain = LLMChain(prompt=description_prompt, llm=llm)"
   ]
  },
  {
   "cell_type": "code",
   "execution_count": 30,
   "metadata": {},
   "outputs": [],
   "source": [
    "output = llm_chain.run({})"
   ]
  },
  {
   "cell_type": "code",
   "execution_count": 31,
   "metadata": {},
   "outputs": [],
   "source": [
    "llm_chain2 = LLMChain(prompt=rewrite_prompt, llm=llm)"
   ]
  },
  {
   "cell_type": "code",
   "execution_count": 32,
   "metadata": {},
   "outputs": [
    {
     "data": {
      "text/plain": [
       "\"Neutral:\\n1. Hi, I'm Veniamin. \\n2. My name is Veniamin, nice to meet you. \\n3. Veniamin here, how can I assist you?\\n\\nPositive:\\n1. Pleasure to meet you, I'm Veniamin. \\n2. Hi there, Veniamin at your service! \\n3. Veniamin here, happy to help in any way I can.\\n\\nNegative:\\n1. Ugh, Veniamin here. \\n2. Unfortunately, it's Veniamin. \\n3. Veniamin, but don't hold that against me.\""
      ]
     },
     "execution_count": 32,
     "metadata": {},
     "output_type": "execute_result"
    }
   ],
   "source": [
    "llm_chain2.run({\"characteristics\": output, \"text\": \"Hey my name is Veniamin!\"})"
   ]
  },
  {
   "cell_type": "code",
   "execution_count": 11,
   "metadata": {},
   "outputs": [
    {
     "data": {
      "text/plain": [
       "AIMessage(content='Sure, here are three factors/characteristics of text that can make it neutral, positive, and negative sentiment:\\n\\nNeutral:\\n1. Use of factual language: Using neutral language that presents information in a straightforward manner can make the text appear objective and unbiased.\\n2. Lack of emotional language: Avoiding emotional language, such as exclamation marks or capital letters, can help keep the text neutral.\\n3. Balanced tone: Using a tone that is neither too formal nor too casual can help maintain a neutral tone.\\n\\nPositive:\\n1. Use of superlatives: Describing something as the \"best\" or \"amazing\" can give a positive sentiment to the text.\\n2. Use of emoticons: Including positive emoticons, such as smiley faces, can convey positivity in the text.\\n3. Expressing gratitude: Showing appreciation or gratitude towards someone or something in the text can also convey a positive sentiment.\\n\\nNegative:\\n1. Use of negative language: Using words with negative connotations, such as \"hate\" or \"dislike,\" can convey a negative sentiment.\\n2. Use of sarcasm: Using sarcastic language can convey a negative sentiment, as it can be interpreted as mocking or belittling.\\n3. Expressing disappointment: Expressing disappointment or frustration', additional_kwargs={})"
      ]
     },
     "execution_count": 11,
     "metadata": {},
     "output_type": "execute_result"
    }
   ],
   "source": []
  },
  {
   "cell_type": "code",
   "execution_count": 7,
   "metadata": {},
   "outputs": [
    {
     "data": {
      "text/plain": [
       "LLMChain(memory=None, callback_manager=<langchain.callbacks.shared.SharedCallbackManager object at 0x7f94356aadf0>, verbose=False, prompt=ChatPromptTemplate(input_variables=[], output_parser=None, partial_variables={}, messages=[SystemMessagePromptTemplate(prompt=PromptTemplate(input_variables=[], output_parser=None, partial_variables={}, template='\\n        You are an advanced AI writer. Your job is to help write examples of social media comments that conveys certain sentiments: positive, neutral, negative.\\n        ', template_format='f-string', validate_template=True), additional_kwargs={}), HumanMessagePromptTemplate(prompt=PromptTemplate(input_variables=[], output_parser=None, partial_variables={}, template='List three factors / charactersitics of text that can make it neutral, positive, and negative sentiment. Make sure to list three factors for each of the sentiments. \\n', template_format='f-string', validate_template=True), additional_kwargs={})]), llm=ChatOpenAI(verbose=False, callback_manager=<langchain.callbacks.shared.SharedCallbackManager object at 0x7f94356aadf0>, client=<class 'openai.api_resources.chat_completion.ChatCompletion'>, model_name='gpt-3.5-turbo', temperature=0.7, model_kwargs={}, openai_api_key=None, openai_organization=None, request_timeout=60, max_retries=2, streaming=False, n=1, max_tokens=256), output_key='text')"
      ]
     },
     "execution_count": 7,
     "metadata": {},
     "output_type": "execute_result"
    }
   ],
   "source": [
    "llm_chain"
   ]
  },
  {
   "cell_type": "code",
   "execution_count": 15,
   "metadata": {},
   "outputs": [
    {
     "data": {
      "text/plain": [
       "[SystemMessagePromptTemplate(prompt=PromptTemplate(input_variables=[], output_parser=None, partial_variables={}, template='\\n        You are an advanced AI writer. Your job is to help write examples of social media comments that conveys certain sentiments: positive, neutral, negative.\\n        ', template_format='f-string', validate_template=True), additional_kwargs={}),\n",
       " HumanMessagePromptTemplate(prompt=PromptTemplate(input_variables=[], output_parser=None, partial_variables={}, template='List three factors / charactersitics of text that can make it neutral, positive, and negative sentiment. Make sure to list three factors for each of the sentiments. \\n', template_format='f-string', validate_template=True), additional_kwargs={})]"
      ]
     },
     "execution_count": 15,
     "metadata": {},
     "output_type": "execute_result"
    }
   ],
   "source": [
    "description_prompt.messages"
   ]
  },
  {
   "cell_type": "code",
   "execution_count": null,
   "metadata": {},
   "outputs": [],
   "source": []
  }
 ],
 "metadata": {
  "kernelspec": {
   "display_name": "Python 3",
   "language": "python",
   "name": "python3"
  },
  "language_info": {
   "codemirror_mode": {
    "name": "ipython",
    "version": 3
   },
   "file_extension": ".py",
   "mimetype": "text/x-python",
   "name": "python",
   "nbconvert_exporter": "python",
   "pygments_lexer": "ipython3",
   "version": "3.9.7"
  },
  "orig_nbformat": 4
 },
 "nbformat": 4,
 "nbformat_minor": 2
}
